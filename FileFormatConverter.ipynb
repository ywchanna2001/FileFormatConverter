{
 "cells": [
  {
   "cell_type": "code",
   "execution_count": 1,
   "id": "e37323ec-6354-401f-ace1-74beffc91b02",
   "metadata": {},
   "outputs": [
    {
     "name": "stderr",
     "output_type": "stream",
     "text": [
      "E:\\Anaconda\\envs\\FileFormatConverter\\lib\\site-packages\\transformers\\utils\\generic.py:311: FutureWarning: `torch.utils._pytree._register_pytree_node` is deprecated. Please use `torch.utils._pytree.register_pytree_node` instead.\n",
      "  torch.utils._pytree._register_pytree_node(\n",
      "E:\\Anaconda\\envs\\FileFormatConverter\\lib\\site-packages\\huggingface_hub-0.25.1-py3.8.egg\\huggingface_hub\\file_download.py:1142: FutureWarning: `resume_download` is deprecated and will be removed in version 1.0.0. Downloads always resume when possible. If you want to force a new download, use `force_download=True`.\n"
     ]
    }
   ],
   "source": [
    "from transformers import pipeline\n",
    "\n",
    "# Load a local model for text generation or completion\n",
    "model = pipeline('text-generation', model='gpt2')  # You can choose other models too"
   ]
  },
  {
   "cell_type": "code",
   "execution_count": 3,
   "id": "083e4aaf-9359-4f92-a09b-d3e92dbd5825",
   "metadata": {},
   "outputs": [],
   "source": [
    "from textblob import TextBlob\n",
    "\n",
    "# Function to correct spelling using TextBlob\n",
    "def correct_spelling(column_name):\n",
    "    corrected = TextBlob(column_name).correct()\n",
    "    return str(corrected)"
   ]
  },
  {
   "cell_type": "code",
   "execution_count": 25,
   "id": "1f0d6221-ad4d-453e-973e-d8b2bac55491",
   "metadata": {},
   "outputs": [
    {
     "name": "stdout",
     "output_type": "stream",
     "text": [
      "['Name', 'Address', 'Shone_Number', 'Date_Of_Birth', 'Gender']\n"
     ]
    }
   ],
   "source": [
    "import re\n",
    "\n",
    "# Function to standardize column names: Capitalize each word and replace spaces with underscores\n",
    "def standardize_column_name(column_name):\n",
    "    # Correct spelling first\n",
    "    corrected_name = correct_spelling(column_name)\n",
    "    \n",
    "    # Remove any special characters and normalize spacing\n",
    "    cleaned_name = re.sub(r'[^a-zA-Z0-9\\s]', '', corrected_name)\n",
    "    \n",
    "    # Split by space and capitalize each word, then join with an underscore\n",
    "    standard_name = '_'.join([word.capitalize() for word in cleaned_name.split()])\n",
    "    \n",
    "    return standard_name\n",
    "\n",
    "# Example usage\n",
    "# columns = ['name7e.', 'addrreiss% ', ' Phone Number ', 'date of birth', 'gendiuer']\n",
    "# standard_columns = [standardize_column_name(col) for col in columns]\n",
    "# print(standard_columns)"
   ]
  },
  {
   "cell_type": "code",
   "execution_count": 27,
   "id": "e2eb47e7-fcb7-405a-aa1f-095528f7dee7",
   "metadata": {},
   "outputs": [],
   "source": [
    "import pandas as pd\n",
    "import json\n",
    "\n",
    "# Function to load an excel file and standardize column names\n",
    "def load_and_standardize_excel(file_path, sheet_name=0):\n",
    "    #Load the excel file\n",
    "    df = pd.read_excel(file_path, sheet_name = sheet_name)\n",
    "\n",
    "    #Get the column names\n",
    "    original_columns = df.columns\n",
    "\n",
    "    #Standardize each column name\n",
    "    standardized_columns = [standardize_column_name(col) for col in original_columns]\n",
    "\n",
    "    #Create a mapping of original to standardized column names\n",
    "    column_mapping = dict(zip(original_columns, standardized_columns))\n",
    "\n",
    "    #Update the dataframe's columns with the standardized names\n",
    "    df = df.rename(columns=column_mapping)\n",
    "\n",
    "    return df"
   ]
  },
  {
   "cell_type": "code",
   "execution_count": 31,
   "id": "89f046d3-2a20-4103-9696-a05b1d445b77",
   "metadata": {},
   "outputs": [],
   "source": [
    "#Function to convert the DataFrame to a JSON file\n",
    "def save_dataframe_to_json(df, output_file):\n",
    "\n",
    "    #Convert the dataframe to a list of dictionaries (JSON objects)\n",
    "    json_data = df.to_dict(orient='records')\n",
    "\n",
    "    #Save the JSON data to a file\n",
    "    with open(output_file, 'w', encoding='utf-8') as json_file:\n",
    "        json.dump(json_data, json_file, indent=4, ensure_ascii=False)"
   ]
  },
  {
   "cell_type": "markdown",
   "id": "2849b4ec-d5bc-43d5-8ef3-d04a41709245",
   "metadata": {},
   "source": [
    "## Example Usage"
   ]
  },
  {
   "cell_type": "code",
   "execution_count": 36,
   "id": "c46ddac1-0743-42b3-bee1-bd1466fe83e5",
   "metadata": {},
   "outputs": [
    {
     "name": "stdout",
     "output_type": "stream",
     "text": [
      "JSON data has been saved to output.json\n"
     ]
    }
   ],
   "source": [
    "file_path = 'sample_data.xlsx'\n",
    "output_file = 'output.json'\n",
    "\n",
    "# Load and standardize the Excel data\n",
    "df = load_and_standardize_excel(file_path)\n",
    "\n",
    "# Save the standardize data as JSON\n",
    "save_dataframe_to_json(df, output_file)\n",
    "\n",
    "print(f\"JSON data has been saved to {output_file}\")"
   ]
  },
  {
   "cell_type": "code",
   "execution_count": null,
   "id": "f1f565ca-9827-4a13-af20-442c18cab8c3",
   "metadata": {},
   "outputs": [],
   "source": []
  }
 ],
 "metadata": {
  "kernelspec": {
   "display_name": "Python (FileFormatConverter)",
   "language": "python",
   "name": "fileformatconverter"
  },
  "language_info": {
   "codemirror_mode": {
    "name": "ipython",
    "version": 3
   },
   "file_extension": ".py",
   "mimetype": "text/x-python",
   "name": "python",
   "nbconvert_exporter": "python",
   "pygments_lexer": "ipython3",
   "version": "3.10.14"
  }
 },
 "nbformat": 4,
 "nbformat_minor": 5
}
