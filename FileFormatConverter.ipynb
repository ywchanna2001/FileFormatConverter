{
 "cells": [
  {
   "cell_type": "markdown",
   "id": "5ad4c14c-00b5-43d9-8a14-d0bf2c05566f",
   "metadata": {},
   "source": [
    "## Loading the pretrained model"
   ]
  },
  {
   "cell_type": "code",
   "execution_count": 21,
   "id": "e37323ec-6354-401f-ace1-74beffc91b02",
   "metadata": {},
   "outputs": [],
   "source": [
    "from transformers import pipeline\n",
    "\n",
    "# Loading gpt-2 model using Hugging Face pipeline \n",
    "model = pipeline('text-generation', model='gpt2')  # You can choose other models too"
   ]
  },
  {
   "cell_type": "markdown",
   "id": "4f87a39e-c00b-46ee-9000-fb40d41fc997",
   "metadata": {},
   "source": [
    "## Correct the spellings"
   ]
  },
  {
   "cell_type": "markdown",
   "id": "6fb0526a-087f-49c6-a561-a31447b8dfe7",
   "metadata": {},
   "source": [
    "from textblob import TextBlob\n",
    "\n",
    "# Function to correct spelling using TextBlob. TextBlob is a library that can be used to correct spellings\n",
    "def correct_spelling(column_name):\n",
    "    corrected = TextBlob(column_name).correct()\n",
    "    return str(corrected)"
   ]
  },
  {
   "cell_type": "code",
   "execution_count": 40,
   "id": "178880e7-ecce-44d2-9e3f-932f52c45fcb",
   "metadata": {},
   "outputs": [],
   "source": [
    "from spellchecker import SpellChecker\n",
    "\n",
    "# Initialize the SpellChecker\n",
    "spell = SpellChecker()\n",
    "\n",
    "# Function to correct spelling using SpellChecker\n",
    "def correct_spelling(column_name):\n",
    "    # Split the column name into words\n",
    "    words = column_name.split()\n",
    "    # Correct each word if it is not in the spellchecker's dictionary\n",
    "    corrected_words = [\n",
    "        spell.correction(word) if spell.correction(word) is not None else word for word in words\n",
    "    ]\n",
    "    # Join the corrected words back into a single string\n",
    "    corrected = ' '.join(corrected_words)\n",
    "    return corrected\n"
   ]
  },
  {
   "cell_type": "markdown",
   "id": "f792e70a-c71b-4b82-b9b8-7190dfba8a93",
   "metadata": {},
   "source": [
    "## Standardize column names"
   ]
  },
  {
   "cell_type": "code",
   "execution_count": 29,
   "id": "1f0d6221-ad4d-453e-973e-d8b2bac55491",
   "metadata": {},
   "outputs": [],
   "source": [
    "import re\n",
    "\n",
    "# Function to standardize column names: Capitalize each word and replace spaces with underscores\n",
    "def standardize_column_name(column_name):\n",
    "    # Correct spelling first\n",
    "    corrected_name = correct_spelling(column_name)\n",
    "    \n",
    "    # Remove any special characters and normalize spacing\n",
    "    cleaned_name = re.sub(r'[^a-zA-Z0-9\\s]', '', corrected_name)\n",
    "    \n",
    "    # Split by space and capitalize each word, then join with an underscore\n",
    "    standard_name = '_'.join([word.capitalize() for word in cleaned_name.split()])\n",
    "    \n",
    "    return standard_name"
   ]
  },
  {
   "cell_type": "markdown",
   "id": "01e80401-c7bb-417a-a5a0-aa86ebdc86ce",
   "metadata": {},
   "source": [
    "## Loading the excel sheet"
   ]
  },
  {
   "cell_type": "code",
   "execution_count": 30,
   "id": "e2eb47e7-fcb7-405a-aa1f-095528f7dee7",
   "metadata": {},
   "outputs": [],
   "source": [
    "import pandas as pd\n",
    "import json\n",
    "\n",
    "# Function to load an excel file and standardize column names\n",
    "def load_and_standardize_excel(file_path, sheet_name=0):\n",
    "    #Load the excel file\n",
    "    df = pd.read_excel(file_path, sheet_name = sheet_name, header = None)\n",
    "\n",
    "    # Transpose the Dataframe to that the first column becomes headers\n",
    "    df = df.set_index(0).transpose()\n",
    "\n",
    "    #Get the column names(after transposing)\n",
    "    original_columns = df.columns\n",
    "\n",
    "    #Standardize each column name\n",
    "    standardized_columns = [standardize_column_name(col) for col in original_columns]\n",
    "\n",
    "    #Create a mapping of original to standardized column names\n",
    "    column_mapping = dict(zip(original_columns, standardized_columns))\n",
    "\n",
    "    #Update the dataframe's columns with the standardized names\n",
    "    df = df.rename(columns=column_mapping)\n",
    "\n",
    "    return df"
   ]
  },
  {
   "cell_type": "markdown",
   "id": "24924a16-07d4-43f4-88cc-b2e5ab66a4c4",
   "metadata": {},
   "source": [
    "## Converting dataframe to a JSON file"
   ]
  },
  {
   "cell_type": "code",
   "execution_count": 31,
   "id": "89f046d3-2a20-4103-9696-a05b1d445b77",
   "metadata": {},
   "outputs": [],
   "source": [
    "#Function to convert the DataFrame to a JSON file\n",
    "def save_dataframe_to_json(df, output_file):\n",
    "\n",
    "    #Convert the dataframe to a list of dictionaries (JSON objects)\n",
    "    json_data = df.to_dict(orient='records')\n",
    "\n",
    "    #Save the JSON data to a file\n",
    "    with open(output_file, 'w', encoding='utf-8') as json_file:\n",
    "        json.dump(json_data, json_file, indent=4, ensure_ascii=False)"
   ]
  },
  {
   "cell_type": "markdown",
   "id": "2849b4ec-d5bc-43d5-8ef3-d04a41709245",
   "metadata": {},
   "source": [
    "## Driver Programme"
   ]
  },
  {
   "cell_type": "code",
   "execution_count": 42,
   "id": "c46ddac1-0743-42b3-bee1-bd1466fe83e5",
   "metadata": {},
   "outputs": [
    {
     "name": "stdout",
     "output_type": "stream",
     "text": [
      "JSON data has been saved to test_result.json\n"
     ]
    }
   ],
   "source": [
    "file_path = 'sample_correct_format.xlsx' #excel file's path\n",
    "output_file = 'test_result.json'\n",
    "\n",
    "# Load and standardize the Excel data\n",
    "df = load_and_standardize_excel(file_path)\n",
    "\n",
    "# Save the standardize data as JSON\n",
    "save_dataframe_to_json(df, output_file)\n",
    "\n",
    "print(f\"JSON data has been saved to {output_file}\")"
   ]
  },
  {
   "cell_type": "code",
   "execution_count": null,
   "id": "f1f565ca-9827-4a13-af20-442c18cab8c3",
   "metadata": {},
   "outputs": [],
   "source": []
  }
 ],
 "metadata": {
  "kernelspec": {
   "display_name": "Python (FileFormatConverter)",
   "language": "python",
   "name": "fileformatconverter"
  },
  "language_info": {
   "codemirror_mode": {
    "name": "ipython",
    "version": 3
   },
   "file_extension": ".py",
   "mimetype": "text/x-python",
   "name": "python",
   "nbconvert_exporter": "python",
   "pygments_lexer": "ipython3",
   "version": "3.10.14"
  }
 },
 "nbformat": 4,
 "nbformat_minor": 5
}
